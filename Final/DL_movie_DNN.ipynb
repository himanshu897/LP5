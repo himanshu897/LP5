{
 "cells": [
  {
   "cell_type": "code",
   "execution_count": 1,
   "id": "f496efa2-ea19-4ec2-8501-564fb2f94fbf",
   "metadata": {},
   "outputs": [
    {
     "name": "stderr",
     "output_type": "stream",
     "text": [
      "2024-04-15 14:47:49.591645: I tensorflow/core/util/port.cc:110] oneDNN custom operations are on. You may see slightly different numerical results due to floating-point round-off errors from different computation orders. To turn them off, set the environment variable `TF_ENABLE_ONEDNN_OPTS=0`.\n",
      "2024-04-15 14:47:49.627016: I tensorflow/tsl/cuda/cudart_stub.cc:28] Could not find cuda drivers on your machine, GPU will not be used.\n",
      "2024-04-15 14:47:49.937708: I tensorflow/tsl/cuda/cudart_stub.cc:28] Could not find cuda drivers on your machine, GPU will not be used.\n",
      "2024-04-15 14:47:49.940028: I tensorflow/core/platform/cpu_feature_guard.cc:182] This TensorFlow binary is optimized to use available CPU instructions in performance-critical operations.\n",
      "To enable the following instructions: AVX2 AVX_VNNI FMA, in other operations, rebuild TensorFlow with the appropriate compiler flags.\n",
      "2024-04-15 14:47:50.519621: W tensorflow/compiler/tf2tensorrt/utils/py_utils.cc:38] TF-TRT Warning: Could not find TensorRT\n"
     ]
    }
   ],
   "source": [
    "from keras.datasets import imdb"
   ]
  },
  {
   "cell_type": "code",
   "execution_count": 2,
   "id": "a2c1674c-eaf5-4f2b-b8a0-b9302288b05a",
   "metadata": {},
   "outputs": [],
   "source": [
    "(train_data,train_label),(test_data,test_label) = imdb.load_data(num_words=10000)"
   ]
  },
  {
   "cell_type": "code",
   "execution_count": 3,
   "id": "be1eda68-7959-4415-9fbd-728382192081",
   "metadata": {},
   "outputs": [],
   "source": [
    "import numpy as np\n",
    "\n",
    "def vectorize_sequences(sequences,dimensions=10000):\n",
    "    results = np.zeros((len(sequences),dimensions))\n",
    "    for i,sequence in enumerate(sequences):\n",
    "        results[i,sequence]=1\n",
    "        \n",
    "    return results\n",
    "\n",
    "x_train = vectorize_sequences(train_data)\n",
    "x_test = vectorize_sequences(test_data)\n"
   ]
  },
  {
   "cell_type": "code",
   "execution_count": 4,
   "id": "9e3f2cf3-c5a2-4fbd-bd5c-172d32e42cf5",
   "metadata": {},
   "outputs": [],
   "source": [
    "y_train = np.asarray(train_label).astype('float32')\n",
    "y_test= np.asarray(test_label).astype('float32')"
   ]
  },
  {
   "cell_type": "code",
   "execution_count": 5,
   "id": "44166a9c-b1bf-4a41-8656-aceb641744c9",
   "metadata": {},
   "outputs": [],
   "source": [
    "from keras.models import Sequential\n",
    "from keras.layers import Dense"
   ]
  },
  {
   "cell_type": "code",
   "execution_count": 6,
   "id": "01186669-b54d-4e53-9431-309cce41a6c8",
   "metadata": {},
   "outputs": [
    {
     "name": "stderr",
     "output_type": "stream",
     "text": [
      "2024-04-15 14:47:53.968407: I tensorflow/compiler/xla/stream_executor/cuda/cuda_gpu_executor.cc:995] successful NUMA node read from SysFS had negative value (-1), but there must be at least one NUMA node, so returning NUMA node zero. See more at https://github.com/torvalds/linux/blob/v6.0/Documentation/ABI/testing/sysfs-bus-pci#L344-L355\n",
      "2024-04-15 14:47:53.985758: W tensorflow/core/common_runtime/gpu/gpu_device.cc:1960] Cannot dlopen some GPU libraries. Please make sure the missing libraries mentioned above are installed properly if you would like to use GPU. Follow the guide at https://www.tensorflow.org/install/gpu for how to download and setup the required libraries for your platform.\n",
      "Skipping registering GPU devices...\n"
     ]
    }
   ],
   "source": [
    "model = Sequential()\n",
    "\n",
    "model.add(Dense(128,input_shape=(10000,),activation='relu'))\n",
    "model.add(Dense(64,activation = 'relu'))\n",
    "model.add(Dense(32,activation = 'relu'))\n",
    "model.add(Dense(16,activation = 'relu'))\n",
    "model.add(Dense(1,activation = 'sigmoid'))"
   ]
  },
  {
   "cell_type": "code",
   "execution_count": 7,
   "id": "abe06f79-dbfc-4e11-89a6-fa04bae2a473",
   "metadata": {},
   "outputs": [],
   "source": [
    "model.compile(optimizer='adam',loss='mse',metrics=['accuracy'])"
   ]
  },
  {
   "cell_type": "code",
   "execution_count": 8,
   "id": "4a9129c7-b89d-42f1-9f41-7e0ffa6401c2",
   "metadata": {},
   "outputs": [
    {
     "name": "stdout",
     "output_type": "stream",
     "text": [
      "Model: \"sequential\"\n",
      "_________________________________________________________________\n",
      " Layer (type)                Output Shape              Param #   \n",
      "=================================================================\n",
      " dense (Dense)               (None, 128)               1280128   \n",
      "                                                                 \n",
      " dense_1 (Dense)             (None, 64)                8256      \n",
      "                                                                 \n",
      " dense_2 (Dense)             (None, 32)                2080      \n",
      "                                                                 \n",
      " dense_3 (Dense)             (None, 16)                528       \n",
      "                                                                 \n",
      " dense_4 (Dense)             (None, 1)                 17        \n",
      "                                                                 \n",
      "=================================================================\n",
      "Total params: 1291009 (4.92 MB)\n",
      "Trainable params: 1291009 (4.92 MB)\n",
      "Non-trainable params: 0 (0.00 Byte)\n",
      "_________________________________________________________________\n"
     ]
    }
   ],
   "source": [
    "model.summary()"
   ]
  },
  {
   "cell_type": "code",
   "execution_count": 9,
   "id": "b7ae19a0-a55f-4211-922d-fb72816b939a",
   "metadata": {},
   "outputs": [
    {
     "name": "stdout",
     "output_type": "stream",
     "text": [
      "Epoch 1/20\n",
      "40/40 [==============================] - 1s 23ms/step - loss: 0.1375 - accuracy: 0.8166 - val_loss: 0.0833 - val_accuracy: 0.8908\n",
      "Epoch 2/20\n",
      "40/40 [==============================] - 1s 15ms/step - loss: 0.0538 - accuracy: 0.9312 - val_loss: 0.0881 - val_accuracy: 0.8864\n",
      "Epoch 3/20\n",
      "40/40 [==============================] - 1s 16ms/step - loss: 0.0343 - accuracy: 0.9597 - val_loss: 0.0988 - val_accuracy: 0.8754\n",
      "Epoch 4/20\n",
      "40/40 [==============================] - 1s 16ms/step - loss: 0.0288 - accuracy: 0.9663 - val_loss: 0.0979 - val_accuracy: 0.8776\n",
      "Epoch 5/20\n",
      "40/40 [==============================] - 1s 16ms/step - loss: 0.0190 - accuracy: 0.9793 - val_loss: 0.1015 - val_accuracy: 0.8790\n",
      "Epoch 6/20\n",
      "40/40 [==============================] - 1s 15ms/step - loss: 0.0132 - accuracy: 0.9871 - val_loss: 0.1033 - val_accuracy: 0.8758\n",
      "Epoch 7/20\n",
      "40/40 [==============================] - 1s 15ms/step - loss: 0.0109 - accuracy: 0.9895 - val_loss: 0.1049 - val_accuracy: 0.8766\n",
      "Epoch 8/20\n",
      "40/40 [==============================] - 1s 16ms/step - loss: 0.0094 - accuracy: 0.9908 - val_loss: 0.1040 - val_accuracy: 0.8800\n",
      "Epoch 9/20\n",
      "40/40 [==============================] - 1s 16ms/step - loss: 0.0089 - accuracy: 0.9912 - val_loss: 0.1044 - val_accuracy: 0.8802\n",
      "Epoch 10/20\n",
      "40/40 [==============================] - 1s 16ms/step - loss: 0.0086 - accuracy: 0.9914 - val_loss: 0.1054 - val_accuracy: 0.8794\n",
      "Epoch 11/20\n",
      "40/40 [==============================] - 1s 17ms/step - loss: 0.0082 - accuracy: 0.9918 - val_loss: 0.1063 - val_accuracy: 0.8778\n",
      "Epoch 12/20\n",
      "40/40 [==============================] - 1s 15ms/step - loss: 0.0078 - accuracy: 0.9923 - val_loss: 0.1060 - val_accuracy: 0.8780\n",
      "Epoch 13/20\n",
      "40/40 [==============================] - 1s 16ms/step - loss: 0.0075 - accuracy: 0.9924 - val_loss: 0.1075 - val_accuracy: 0.8768\n",
      "Epoch 14/20\n",
      "40/40 [==============================] - 1s 16ms/step - loss: 0.0073 - accuracy: 0.9927 - val_loss: 0.1085 - val_accuracy: 0.8728\n",
      "Epoch 15/20\n",
      "40/40 [==============================] - 1s 16ms/step - loss: 0.0069 - accuracy: 0.9930 - val_loss: 0.1093 - val_accuracy: 0.8728\n",
      "Epoch 16/20\n",
      "40/40 [==============================] - 1s 16ms/step - loss: 0.0066 - accuracy: 0.9934 - val_loss: 0.1087 - val_accuracy: 0.8752\n",
      "Epoch 17/20\n",
      "40/40 [==============================] - 1s 16ms/step - loss: 0.0064 - accuracy: 0.9936 - val_loss: 0.1107 - val_accuracy: 0.8728\n",
      "Epoch 18/20\n",
      "40/40 [==============================] - 1s 16ms/step - loss: 0.0062 - accuracy: 0.9938 - val_loss: 0.1099 - val_accuracy: 0.8734\n",
      "Epoch 19/20\n",
      "40/40 [==============================] - 1s 16ms/step - loss: 0.0061 - accuracy: 0.9940 - val_loss: 0.1107 - val_accuracy: 0.8722\n",
      "Epoch 20/20\n",
      "40/40 [==============================] - 1s 14ms/step - loss: 0.0058 - accuracy: 0.9942 - val_loss: 0.1108 - val_accuracy: 0.8730\n"
     ]
    }
   ],
   "source": [
    "history = model.fit(x_train,y_train,validation_split=0.2,epochs=20,verbose=1,batch_size=512)"
   ]
  },
  {
   "cell_type": "code",
   "execution_count": 10,
   "id": "d865dcf7-3a53-4bee-8927-1d21a1ccf4e9",
   "metadata": {},
   "outputs": [
    {
     "name": "stdout",
     "output_type": "stream",
     "text": [
      "782/782 [==============================] - 1s 743us/step - loss: 0.1222 - accuracy: 0.8595\n",
      "MSE  0.1222001239657402\n",
      "MAE  0.8595200181007385\n"
     ]
    }
   ],
   "source": [
    "mse,mae = model.evaluate(x_test,y_test)\n",
    "\n",
    "print('MSE ',mse)\n",
    "print('MAE ',mae)"
   ]
  },
  {
   "cell_type": "code",
   "execution_count": 11,
   "id": "bb5835ed-f740-41c9-877e-1fa8cb336d0e",
   "metadata": {},
   "outputs": [
    {
     "name": "stdout",
     "output_type": "stream",
     "text": [
      "782/782 [==============================] - 1s 676us/step\n"
     ]
    }
   ],
   "source": [
    "y_preds = model.predict(x_test)"
   ]
  },
  {
   "cell_type": "code",
   "execution_count": 12,
   "id": "03eb6424-5c5e-4b5b-a8e9-234938145834",
   "metadata": {},
   "outputs": [
    {
     "data": {
      "text/plain": [
       "array([[1.7964408e-01],\n",
       "       [9.9999183e-01],\n",
       "       [6.5062815e-01],\n",
       "       ...,\n",
       "       [1.7486162e-02],\n",
       "       [4.4853770e-04],\n",
       "       [5.1575233e-03]], dtype=float32)"
      ]
     },
     "execution_count": 12,
     "metadata": {},
     "output_type": "execute_result"
    }
   ],
   "source": [
    "y_preds"
   ]
  },
  {
   "cell_type": "code",
   "execution_count": 13,
   "id": "3f087093-eac2-4173-8b84-acd34aa6e0e0",
   "metadata": {},
   "outputs": [
    {
     "data": {
      "text/plain": [
       "array([0., 1., 1., ..., 0., 0., 0.], dtype=float32)"
      ]
     },
     "execution_count": 13,
     "metadata": {},
     "output_type": "execute_result"
    }
   ],
   "source": [
    "y_test"
   ]
  },
  {
   "cell_type": "code",
   "execution_count": 14,
   "id": "edd780b9-0b61-43d0-88f1-9bf4815ed192",
   "metadata": {},
   "outputs": [
    {
     "name": "stdout",
     "output_type": "stream",
     "text": [
      "0.85952\n",
      "0.8548641819330385\n",
      "0.86608\n"
     ]
    }
   ],
   "source": [
    "tests=[]\n",
    "for i in y_test:\n",
    "    tests.append(int(i))\n",
    "preds=[]\n",
    "for i in y_preds:\n",
    "    if i[0]>0.5:\n",
    "        preds.append(1)\n",
    "    else:\n",
    "        preds.append(0)\n",
    "from sklearn.metrics import accuracy_score,precision_score,recall_score\n",
    "\n",
    "print(accuracy_score(tests,preds))\n",
    "print(precision_score(tests,preds))\n",
    "print(recall_score(tests,preds))"
   ]
  },
  {
   "cell_type": "code",
   "execution_count": 15,
   "id": "bbd35a48-1b57-4b60-abf8-2cc91c41c47e",
   "metadata": {},
   "outputs": [
    {
     "name": "stdout",
     "output_type": "stream",
     "text": [
      "Downloading data from https://storage.googleapis.com/tensorflow/tf-keras-datasets/imdb_word_index.json\n",
      "1641221/1641221 [==============================] - 0s 0us/step\n"
     ]
    },
    {
     "data": {
      "text/plain": [
       "\"? this film was just brilliant casting location scenery story direction everyone's really suited the part they played and you could just imagine being there robert ? is an amazing actor and now the same being director ? father came from the same scottish island as myself so i loved the fact there was a real connection with this film the witty remarks throughout the film were great it was just brilliant so much that i bought the film as soon as it was released for ? and would recommend it to everyone to watch and the fly fishing was amazing really cried at the end it was so sad and you know what they say if you cry at a film it must have been good and this definitely was also ? to the two little boy's that played the ? of norman and paul they were just brilliant children are often left out of the ? list i think because the stars that play them all grown up are such a big profile for the whole film but these children are amazing and should be praised for what they have done don't you think the whole story was so lovely because it was true and was someone's life after all that was shared with us all\""
      ]
     },
     "execution_count": 15,
     "metadata": {},
     "output_type": "execute_result"
    }
   ],
   "source": [
    "word_index = imdb.get_word_index()\n",
    "def return_token(tid):\n",
    "    for k,v in word_index.items():\n",
    "        # We decode the review; note that our indices were offset by 3\n",
    "        # because 0, 1 and 2 are reserved indices for \"padding\", \"start of sequence\", and \"unknown\".\n",
    "        if v==tid-3:\n",
    "            return k\n",
    "    return '?'\n",
    "def print_review(id_):\n",
    "    sentence = ' '.join(return_token(i) for i in train_data[id_])\n",
    "    return sentence\n",
    "print_review(0)"
   ]
  },
  {
   "cell_type": "code",
   "execution_count": 16,
   "id": "ab3a8a33-0c37-4739-9f7a-d1d5b239623c",
   "metadata": {},
   "outputs": [],
   "source": [
    "def print_review(id_):\n",
    "    sentence = ' '.join(return_token(i) for i in train_data[id_])\n",
    "    return sentence"
   ]
  },
  {
   "cell_type": "code",
   "execution_count": 17,
   "id": "4d0eaaaf-d05f-4c94-9ed9-e12375bb1026",
   "metadata": {},
   "outputs": [
    {
     "data": {
      "text/plain": [
       "\"? this film was just brilliant casting location scenery story direction everyone's really suited the part they played and you could just imagine being there robert ? is an amazing actor and now the same being director ? father came from the same scottish island as myself so i loved the fact there was a real connection with this film the witty remarks throughout the film were great it was just brilliant so much that i bought the film as soon as it was released for ? and would recommend it to everyone to watch and the fly fishing was amazing really cried at the end it was so sad and you know what they say if you cry at a film it must have been good and this definitely was also ? to the two little boy's that played the ? of norman and paul they were just brilliant children are often left out of the ? list i think because the stars that play them all grown up are such a big profile for the whole film but these children are amazing and should be praised for what they have done don't you think the whole story was so lovely because it was true and was someone's life after all that was shared with us all\""
      ]
     },
     "execution_count": 17,
     "metadata": {},
     "output_type": "execute_result"
    }
   ],
   "source": [
    "print_review(0)"
   ]
  },
  {
   "cell_type": "code",
   "execution_count": 18,
   "id": "d966deb3-bdce-4f27-b167-d21018018efd",
   "metadata": {},
   "outputs": [
    {
     "data": {
      "text/plain": [
       "1"
      ]
     },
     "execution_count": 18,
     "metadata": {},
     "output_type": "execute_result"
    }
   ],
   "source": [
    "train_label[0] #Positive"
   ]
  },
  {
   "cell_type": "code",
   "execution_count": 19,
   "id": "d4a3e5ab-60f9-48cd-9d47-550942387e53",
   "metadata": {},
   "outputs": [
    {
     "data": {
      "text/plain": [
       "\"? big hair big boobs bad music and a giant safety pin these are the words to best describe this terrible movie i love cheesy horror movies and i've seen hundreds but this had got to be on of the worst ever made the plot is paper thin and ridiculous the acting is an abomination the script is completely laughable the best is the end showdown with the cop and how he worked out who the killer is it's just so damn terribly written the clothes are sickening and funny in equal ? the hair is big lots of boobs ? men wear those cut ? shirts that show off their ? sickening that men actually wore them and the music is just ? trash that plays over and over again in almost every scene there is trashy music boobs and ? taking away bodies and the gym still doesn't close for ? all joking aside this is a truly bad film whose only charm is to look back on the disaster that was the 80's and have a good old laugh at how bad everything was back then\""
      ]
     },
     "execution_count": 19,
     "metadata": {},
     "output_type": "execute_result"
    }
   ],
   "source": [
    "print_review(1)"
   ]
  },
  {
   "cell_type": "code",
   "execution_count": 20,
   "id": "f6fafc18-027c-46cd-908f-0f83b7b3839e",
   "metadata": {},
   "outputs": [
    {
     "data": {
      "text/plain": [
       "0"
      ]
     },
     "execution_count": 20,
     "metadata": {},
     "output_type": "execute_result"
    }
   ],
   "source": [
    "train_label[1] # Negative"
   ]
  },
  {
   "cell_type": "code",
   "execution_count": 21,
   "id": "40309830-7d2d-43ff-a09c-cf4a4b2dedb0",
   "metadata": {},
   "outputs": [
    {
     "data": {
      "text/plain": [
       "\"? this has to be one of the worst films of the 1990s when my friends i were watching this film being the target audience it was aimed at we just sat watched the first half an hour with our jaws touching the floor at how bad it really was the rest of the time everyone else in the theatre just started talking to each other leaving or generally crying into their popcorn that they actually paid money they had ? working to watch this feeble excuse for a film it must have looked like a great idea on paper but on film it looks like no one in the film has a clue what is going on crap acting crap costumes i can't get across how ? this is to watch save yourself an hour a bit of your life\""
      ]
     },
     "execution_count": 21,
     "metadata": {},
     "output_type": "execute_result"
    }
   ],
   "source": [
    "print_review(2)"
   ]
  },
  {
   "cell_type": "code",
   "execution_count": 22,
   "id": "db601796-4954-4bc0-aec7-909c2ecb0156",
   "metadata": {},
   "outputs": [
    {
     "data": {
      "text/plain": [
       "0"
      ]
     },
     "execution_count": 22,
     "metadata": {},
     "output_type": "execute_result"
    }
   ],
   "source": [
    "train_label[2] # Negative"
   ]
  },
  {
   "cell_type": "code",
   "execution_count": null,
   "id": "b9ba7a46-6150-4672-828b-fdfef0d132d1",
   "metadata": {},
   "outputs": [],
   "source": []
  }
 ],
 "metadata": {
  "kernelspec": {
   "display_name": "Python 3 (ipykernel)",
   "language": "python",
   "name": "python3"
  },
  "language_info": {
   "codemirror_mode": {
    "name": "ipython",
    "version": 3
   },
   "file_extension": ".py",
   "mimetype": "text/x-python",
   "name": "python",
   "nbconvert_exporter": "python",
   "pygments_lexer": "ipython3",
   "version": "3.8.10"
  }
 },
 "nbformat": 4,
 "nbformat_minor": 5
}
